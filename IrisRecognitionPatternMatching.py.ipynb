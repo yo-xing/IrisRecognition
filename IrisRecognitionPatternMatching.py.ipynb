{
 "cells": [
  {
   "cell_type": "markdown",
   "id": "e7d9c905",
   "metadata": {},
   "source": [
    "### Iris Recognition\n",
    "\n",
    "This is the main iris recognition function that calls the following subfunctions:\n",
    "\n",
    "* IrisLocalization\n",
    "* IrisNormalization\n",
    "* ImageEnhancement\n",
    "* FeatureExtraction\n",
    "* IrisMatching\n",
    "* PerformanceEvaluation"
   ]
  },
  {
   "cell_type": "code",
   "execution_count": 1,
   "id": "85ead1d6",
   "metadata": {},
   "outputs": [],
   "source": [
    "# import necessary libraries\n",
    "import os\n",
    "import cv2\n",
    "import numpy as np\n",
    "import matplotlib.pyplot as plt\n",
    "import pandas as pd\n",
    "\n",
    "# import fucntions for iris recognition\n",
    "from IrisLocalization import IrisLocalization\n",
    "from IrisNormalization import IrisNormalization\n",
    "from ImageEnhancement import ImageEnhancement\n",
    "from FeatureExtraction import FeatureExtraction\n",
    "\n",
    "##\n",
    "\n",
    "import glob\n",
    "import math\n",
    "from scipy.spatial import distance\n",
    "from sklearn import metrics"
   ]
  },
  {
   "cell_type": "code",
   "execution_count": 2,
   "id": "5698dfcd",
   "metadata": {},
   "outputs": [
    {
     "data": {
      "text/plain": [
       "'/Users/Yo/Dropbox/My Mac (Yos-iMac.lan)/Documents/Iris Recognition'"
      ]
     },
     "execution_count": 2,
     "metadata": {},
     "output_type": "execute_result"
    }
   ],
   "source": [
    "os.getcwd()"
   ]
  },
  {
   "cell_type": "code",
   "execution_count": 6,
   "id": "7360d130",
   "metadata": {},
   "outputs": [],
   "source": [
    "df = pd.read_csv('img_featues.csv', index_col = 0)"
   ]
  },
  {
   "cell_type": "code",
   "execution_count": 7,
   "id": "596a9189",
   "metadata": {},
   "outputs": [
    {
     "data": {
      "text/html": [
       "<div>\n",
       "<style scoped>\n",
       "    .dataframe tbody tr th:only-of-type {\n",
       "        vertical-align: middle;\n",
       "    }\n",
       "\n",
       "    .dataframe tbody tr th {\n",
       "        vertical-align: top;\n",
       "    }\n",
       "\n",
       "    .dataframe thead th {\n",
       "        text-align: right;\n",
       "    }\n",
       "</style>\n",
       "<table border=\"1\" class=\"dataframe\">\n",
       "  <thead>\n",
       "    <tr style=\"text-align: right;\">\n",
       "      <th></th>\n",
       "      <th>0</th>\n",
       "      <th>1</th>\n",
       "      <th>2</th>\n",
       "      <th>3</th>\n",
       "      <th>4</th>\n",
       "      <th>5</th>\n",
       "      <th>6</th>\n",
       "      <th>7</th>\n",
       "      <th>8</th>\n",
       "      <th>9</th>\n",
       "      <th>...</th>\n",
       "      <th>759</th>\n",
       "      <th>760</th>\n",
       "      <th>761</th>\n",
       "      <th>762</th>\n",
       "      <th>763</th>\n",
       "      <th>764</th>\n",
       "      <th>765</th>\n",
       "      <th>766</th>\n",
       "      <th>767</th>\n",
       "      <th>eyeNum</th>\n",
       "    </tr>\n",
       "  </thead>\n",
       "  <tbody>\n",
       "    <tr>\n",
       "      <th>001_1_1</th>\n",
       "      <td>162.421875</td>\n",
       "      <td>80.737771</td>\n",
       "      <td>144.968750</td>\n",
       "      <td>89.867606</td>\n",
       "      <td>155.187500</td>\n",
       "      <td>78.308260</td>\n",
       "      <td>147.734375</td>\n",
       "      <td>91.759237</td>\n",
       "      <td>171.937500</td>\n",
       "      <td>82.769423</td>\n",
       "      <td>...</td>\n",
       "      <td>45.060482</td>\n",
       "      <td>228.890625</td>\n",
       "      <td>41.192808</td>\n",
       "      <td>224.031250</td>\n",
       "      <td>41.062821</td>\n",
       "      <td>232.812500</td>\n",
       "      <td>34.803410</td>\n",
       "      <td>182.421875</td>\n",
       "      <td>46.941055</td>\n",
       "      <td>1</td>\n",
       "    </tr>\n",
       "    <tr>\n",
       "      <th>001_1_2</th>\n",
       "      <td>219.875000</td>\n",
       "      <td>76.585838</td>\n",
       "      <td>235.859375</td>\n",
       "      <td>51.304199</td>\n",
       "      <td>234.484375</td>\n",
       "      <td>48.234775</td>\n",
       "      <td>231.125000</td>\n",
       "      <td>35.562225</td>\n",
       "      <td>230.156250</td>\n",
       "      <td>53.491886</td>\n",
       "      <td>...</td>\n",
       "      <td>49.650881</td>\n",
       "      <td>196.265625</td>\n",
       "      <td>53.247137</td>\n",
       "      <td>220.718750</td>\n",
       "      <td>40.730236</td>\n",
       "      <td>206.453125</td>\n",
       "      <td>40.984726</td>\n",
       "      <td>146.265625</td>\n",
       "      <td>24.203075</td>\n",
       "      <td>1</td>\n",
       "    </tr>\n",
       "    <tr>\n",
       "      <th>001_1_3</th>\n",
       "      <td>160.796875</td>\n",
       "      <td>45.123158</td>\n",
       "      <td>244.906250</td>\n",
       "      <td>19.733156</td>\n",
       "      <td>217.312500</td>\n",
       "      <td>37.321607</td>\n",
       "      <td>220.890625</td>\n",
       "      <td>45.691601</td>\n",
       "      <td>235.328125</td>\n",
       "      <td>26.468174</td>\n",
       "      <td>...</td>\n",
       "      <td>40.342564</td>\n",
       "      <td>221.171875</td>\n",
       "      <td>34.992658</td>\n",
       "      <td>216.765625</td>\n",
       "      <td>35.185110</td>\n",
       "      <td>220.906250</td>\n",
       "      <td>39.965500</td>\n",
       "      <td>145.015625</td>\n",
       "      <td>57.472953</td>\n",
       "      <td>1</td>\n",
       "    </tr>\n",
       "    <tr>\n",
       "      <th>002_1_1</th>\n",
       "      <td>193.843750</td>\n",
       "      <td>50.765151</td>\n",
       "      <td>238.250000</td>\n",
       "      <td>30.217441</td>\n",
       "      <td>243.718750</td>\n",
       "      <td>32.948572</td>\n",
       "      <td>221.031250</td>\n",
       "      <td>72.609178</td>\n",
       "      <td>246.796875</td>\n",
       "      <td>22.026390</td>\n",
       "      <td>...</td>\n",
       "      <td>27.674941</td>\n",
       "      <td>194.750000</td>\n",
       "      <td>55.292122</td>\n",
       "      <td>237.937500</td>\n",
       "      <td>27.174710</td>\n",
       "      <td>214.281250</td>\n",
       "      <td>36.216135</td>\n",
       "      <td>218.015625</td>\n",
       "      <td>29.526732</td>\n",
       "      <td>2</td>\n",
       "    </tr>\n",
       "    <tr>\n",
       "      <th>002_1_2</th>\n",
       "      <td>234.406250</td>\n",
       "      <td>32.521012</td>\n",
       "      <td>237.093750</td>\n",
       "      <td>38.226185</td>\n",
       "      <td>213.609375</td>\n",
       "      <td>58.020367</td>\n",
       "      <td>251.203125</td>\n",
       "      <td>17.002922</td>\n",
       "      <td>237.328125</td>\n",
       "      <td>34.141733</td>\n",
       "      <td>...</td>\n",
       "      <td>66.127110</td>\n",
       "      <td>183.156250</td>\n",
       "      <td>54.037088</td>\n",
       "      <td>228.250000</td>\n",
       "      <td>34.556114</td>\n",
       "      <td>180.390625</td>\n",
       "      <td>44.689420</td>\n",
       "      <td>208.765625</td>\n",
       "      <td>50.745610</td>\n",
       "      <td>2</td>\n",
       "    </tr>\n",
       "  </tbody>\n",
       "</table>\n",
       "<p>5 rows × 769 columns</p>\n",
       "</div>"
      ],
      "text/plain": [
       "                  0          1           2          3           4          5  \\\n",
       "001_1_1  162.421875  80.737771  144.968750  89.867606  155.187500  78.308260   \n",
       "001_1_2  219.875000  76.585838  235.859375  51.304199  234.484375  48.234775   \n",
       "001_1_3  160.796875  45.123158  244.906250  19.733156  217.312500  37.321607   \n",
       "002_1_1  193.843750  50.765151  238.250000  30.217441  243.718750  32.948572   \n",
       "002_1_2  234.406250  32.521012  237.093750  38.226185  213.609375  58.020367   \n",
       "\n",
       "                  6          7           8          9  ...        759  \\\n",
       "001_1_1  147.734375  91.759237  171.937500  82.769423  ...  45.060482   \n",
       "001_1_2  231.125000  35.562225  230.156250  53.491886  ...  49.650881   \n",
       "001_1_3  220.890625  45.691601  235.328125  26.468174  ...  40.342564   \n",
       "002_1_1  221.031250  72.609178  246.796875  22.026390  ...  27.674941   \n",
       "002_1_2  251.203125  17.002922  237.328125  34.141733  ...  66.127110   \n",
       "\n",
       "                760        761         762        763         764        765  \\\n",
       "001_1_1  228.890625  41.192808  224.031250  41.062821  232.812500  34.803410   \n",
       "001_1_2  196.265625  53.247137  220.718750  40.730236  206.453125  40.984726   \n",
       "001_1_3  221.171875  34.992658  216.765625  35.185110  220.906250  39.965500   \n",
       "002_1_1  194.750000  55.292122  237.937500  27.174710  214.281250  36.216135   \n",
       "002_1_2  183.156250  54.037088  228.250000  34.556114  180.390625  44.689420   \n",
       "\n",
       "                766        767  eyeNum  \n",
       "001_1_1  182.421875  46.941055       1  \n",
       "001_1_2  146.265625  24.203075       1  \n",
       "001_1_3  145.015625  57.472953       1  \n",
       "002_1_1  218.015625  29.526732       2  \n",
       "002_1_2  208.765625  50.745610       2  \n",
       "\n",
       "[5 rows x 769 columns]"
      ]
     },
     "execution_count": 7,
     "metadata": {},
     "output_type": "execute_result"
    }
   ],
   "source": [
    "df.head()"
   ]
  },
  {
   "cell_type": "code",
   "execution_count": 3,
   "id": "33002574",
   "metadata": {},
   "outputs": [
    {
     "name": "stdout",
     "output_type": "stream",
     "text": [
      "1\n",
      "2\n",
      "3\n",
      "4\n",
      "5\n",
      "6\n",
      "7\n",
      "8\n",
      "9\n",
      "10\n",
      "11\n",
      "12\n",
      "13\n",
      "14\n",
      "15\n",
      "16\n",
      "17\n",
      "18\n",
      "19\n",
      "20\n",
      "21\n",
      "22\n",
      "23\n",
      "24\n",
      "25\n",
      "26\n",
      "27\n",
      "28\n",
      "29\n",
      "30\n",
      "31\n",
      "32\n",
      "33\n",
      "34\n",
      "35\n",
      "36\n",
      "37\n",
      "38\n",
      "39\n",
      "40\n",
      "41\n",
      "42\n",
      "43\n",
      "44\n",
      "45\n",
      "46\n",
      "47\n",
      "48\n",
      "49\n",
      "50\n",
      "51\n",
      "52\n",
      "53\n",
      "54\n",
      "55\n",
      "56\n",
      "57\n",
      "58\n",
      "59\n",
      "60\n",
      "61\n",
      "62\n",
      "63\n",
      "64\n",
      "65\n",
      "66\n",
      "67\n",
      "68\n",
      "69\n",
      "70\n",
      "71\n",
      "72\n",
      "73\n",
      "74\n",
      "75\n",
      "76\n",
      "77\n",
      "78\n",
      "79\n",
      "80\n",
      "81\n",
      "82\n",
      "83\n",
      "84\n",
      "85\n",
      "86\n",
      "87\n",
      "88\n",
      "89\n",
      "90\n",
      "91\n",
      "92\n",
      "93\n",
      "94\n",
      "95\n",
      "96\n",
      "97\n",
      "98\n",
      "99\n",
      "100\n",
      "101\n",
      "102\n",
      "103\n",
      "104\n",
      "105\n",
      "106\n",
      "107\n",
      "CPU times: user 8min 33s, sys: 2.7 s, total: 8min 36s\n",
      "Wall time: 7min 50s\n"
     ]
    }
   ],
   "source": [
    "%%time\n",
    "# consider each eye in the training sets (three images from all first sessions)\n",
    "path = \"datasets\"\n",
    "dataFolder = \"CASIA Iris Image Database (version 1.0)\"\n",
    "escHit = False\n",
    "\n",
    "features_dict = dict()\n",
    "\n",
    "for eyeNum in range(1, 108):\n",
    "    print(eyeNum)\n",
    "    if eyeNum <= 9:\n",
    "        eyeId = \"00\" + str(eyeNum)\n",
    "    elif 10 <= eyeNum <= 99:\n",
    "        eyeId = \"0\" + str(eyeNum)\n",
    "    else:\n",
    "        eyeId = str(eyeNum)\n",
    "        \n",
    "    imgPath = os.path.join(path, dataFolder, eyeId, \"1\")\n",
    "    for sample in range(1,4):   \n",
    "        imgFilename = eyeId + \"_1_\" + str(sample) + \".bmp\"\n",
    "        \n",
    "        # read image and convert to gray scale\n",
    "        imgName = os.path.join(imgPath, imgFilename)\n",
    "        img_org = cv2.imread(imgName)\n",
    "        img_gray = cv2.cvtColor(img_org, cv2.COLOR_BGR2GRAY)\n",
    "        \n",
    "        # pass the gray eye image through the different functions in the iris recognition process\n",
    "        img_irisLocalized, xy, radii = IrisLocalization(img_gray)\n",
    "        img_irisNormalized = IrisNormalization(img_gray, xy, radii)\n",
    "        img_irisEnhanced = ImageEnhancement(img_irisNormalized)\n",
    "        img_features = FeatureExtraction(img_irisEnhanced)\n",
    "        features_dict[imgFilename.replace('.bmp', '')] = img_features\n",
    "        #cv2.imshow(imgFilename, img_irisEnhanced)\n",
    "        #plt.imshow(img_irisEnhanced, cmap = \"gray\")\n",
    "        \n",
    "#         key = cv2.waitKey(0)\n",
    "#         if key == 27:\n",
    "#             cv2.destroyAllWindows()\n",
    "#             escHit = True\n",
    "#             break\n",
    "            \n",
    "#     if escHit:\n",
    "#         break\n",
    "            \n",
    "#     eyeNum += 1\n",
    "df = pd.DataFrame(features_dict).T\n",
    "df.to_csv('img_featues.csv')\n"
   ]
  },
  {
   "cell_type": "code",
   "execution_count": 205,
   "id": "bdf14a7b",
   "metadata": {},
   "outputs": [
    {
     "name": "stdout",
     "output_type": "stream",
     "text": [
      "1\n",
      "2\n",
      "3\n",
      "4\n",
      "5\n",
      "6\n",
      "7\n",
      "8\n",
      "9\n",
      "10\n",
      "11\n",
      "12\n",
      "13\n",
      "14\n",
      "15\n",
      "16\n",
      "17\n",
      "18\n",
      "19\n",
      "20\n",
      "21\n",
      "22\n",
      "23\n",
      "24\n",
      "25\n",
      "26\n",
      "27\n",
      "28\n",
      "29\n",
      "30\n",
      "31\n",
      "32\n",
      "33\n",
      "34\n",
      "35\n",
      "36\n",
      "37\n",
      "38\n",
      "39\n",
      "40\n",
      "41\n",
      "42\n",
      "43\n",
      "44\n",
      "45\n",
      "46\n",
      "47\n",
      "48\n",
      "49\n",
      "50\n",
      "51\n",
      "52\n",
      "53\n",
      "54\n",
      "55\n",
      "56\n",
      "57\n",
      "58\n",
      "59\n",
      "60\n",
      "61\n",
      "62\n",
      "63\n",
      "64\n",
      "65\n",
      "66\n",
      "67\n",
      "68\n",
      "69\n",
      "70\n",
      "71\n",
      "72\n",
      "73\n",
      "74\n",
      "75\n",
      "76\n",
      "77\n",
      "78\n",
      "79\n",
      "80\n",
      "81\n",
      "82\n",
      "83\n",
      "84\n",
      "85\n",
      "86\n",
      "87\n",
      "88\n",
      "89\n",
      "90\n",
      "91\n",
      "92\n",
      "93\n",
      "94\n",
      "95\n",
      "96\n",
      "97\n",
      "98\n",
      "99\n",
      "100\n",
      "101\n",
      "102\n",
      "103\n",
      "104\n",
      "105\n",
      "106\n",
      "107\n",
      "CPU times: user 11min 35s, sys: 4.4 s, total: 11min 40s\n",
      "Wall time: 10min 51s\n"
     ]
    }
   ],
   "source": [
    "%%time\n",
    "# consider each eye in the training sets (three images from all first sessions)\n",
    "path = \"datasets\"\n",
    "dataFolder = \"CASIA Iris Image Database (version 1.0)\"\n",
    "escHit = False\n",
    "\n",
    "features_dict = dict()\n",
    "\n",
    "for eyeNum in range(1, 108):\n",
    "    print(eyeNum)\n",
    "    if eyeNum <= 9:\n",
    "        eyeId = \"00\" + str(eyeNum)\n",
    "    elif 10 <= eyeNum <= 99:\n",
    "        eyeId = \"0\" + str(eyeNum)\n",
    "    else:\n",
    "        eyeId = str(eyeNum)\n",
    "        \n",
    "    imgPath = os.path.join(path, dataFolder, eyeId, \"2\")\n",
    "    for sample in range(1,5):   \n",
    "        imgFilename = eyeId + \"_2_\" + str(sample) + \".bmp\"\n",
    "        \n",
    "        # read image and convert to gray scale\n",
    "        imgName = os.path.join(imgPath, imgFilename)\n",
    "        img_org = cv2.imread(imgName)\n",
    "        img_gray = cv2.cvtColor(img_org, cv2.COLOR_BGR2GRAY)\n",
    "        \n",
    "        # pass the gray eye image through the different functions in the iris recognition process\n",
    "        img_irisLocalized, xy, radii = IrisLocalization(img_gray)\n",
    "        img_irisNormalized = IrisNormalization(img_gray, xy, radii)\n",
    "        img_irisEnhanced = ImageEnhancement(img_irisNormalized)\n",
    "        img_features = FeatureExtraction(img_irisEnhanced)\n",
    "        features_dict[imgFilename.replace('.bmp', '')] = img_features\n",
    "        #cv2.imshow(imgFilename, img_irisEnhanced)\n",
    "        #plt.imshow(img_irisEnhanced, cmap = \"gray\")\n",
    "        \n",
    "#         key = cv2.waitKey(0)\n",
    "#         if key == 27:\n",
    "#             cv2.destroyAllWindows()\n",
    "#             escHit = True\n",
    "#             break\n",
    "            \n",
    "#     if escHit:\n",
    "#         break\n",
    "            \n",
    "#     eyeNum += 1\n",
    "df_test = pd.DataFrame(features_dict).T\n",
    "df_test.to_csv('img_featues_test.csv')\n",
    "\n"
   ]
  },
  {
   "cell_type": "code",
   "execution_count": 29,
   "id": "bc8bddf3",
   "metadata": {
    "scrolled": true
   },
   "outputs": [
    {
     "data": {
      "text/plain": [
       "<matplotlib.image.AxesImage at 0x7fb2b4cda250>"
      ]
     },
     "execution_count": 29,
     "metadata": {},
     "output_type": "execute_result"
    },
    {
     "data": {
      "image/png": "[encoded data removed]",
      "text/plain": [
       "<Figure size 432x288 with 1 Axes>"
      ]
     },
     "metadata": {
      "needs_background": "light"
     },
     "output_type": "display_data"
    }
   ],
   "source": [
    "plt.imshow(img_org)"
   ]
  },
  {
   "cell_type": "code",
   "execution_count": 28,
   "id": "4a6df9ad",
   "metadata": {},
   "outputs": [
    {
     "data": {
      "text/plain": [
       "<matplotlib.image.AxesImage at 0x7fb2b4bc14c0>"
      ]
     },
     "execution_count": 28,
     "metadata": {},
     "output_type": "execute_result"
    },
    {
     "data": {
      "image/png": "[encoded data removed]",
      "text/plain": [
       "<Figure size 432x288 with 1 Axes>"
      ]
     },
     "metadata": {
      "needs_background": "light"
     },
     "output_type": "display_data"
    }
   ],
   "source": [
    "plt.imshow(img_irisLocalized)"
   ]
  },
  {
   "cell_type": "code",
   "execution_count": 16,
   "id": "57e8b686",
   "metadata": {},
   "outputs": [
    {
     "data": {
      "text/plain": [
       "768"
      ]
     },
     "execution_count": 16,
     "metadata": {},
     "output_type": "execute_result"
    }
   ],
   "source": [
    "len(img_features)"
   ]
  },
  {
   "cell_type": "code",
   "execution_count": 27,
   "id": "525e7a86",
   "metadata": {
    "scrolled": true
   },
   "outputs": [
    {
     "data": {
      "text/plain": [
       "<matplotlib.image.AxesImage at 0x7fb2b4b53340>"
      ]
     },
     "execution_count": 27,
     "metadata": {},
     "output_type": "execute_result"
    },
    {
     "data": {
      "image/png": "[encoded data removed]",
      "text/plain": [
       "<Figure size 432x288 with 1 Axes>"
      ]
     },
     "metadata": {
      "needs_background": "light"
     },
     "output_type": "display_data"
    }
   ],
   "source": [
    "plt.imshow(img_irisNormalized)"
   ]
  },
  {
   "cell_type": "code",
   "execution_count": 26,
   "id": "6ba1f64c",
   "metadata": {},
   "outputs": [
    {
     "data": {
      "text/plain": [
       "<matplotlib.image.AxesImage at 0x7fb2b4a4edc0>"
      ]
     },
     "execution_count": 26,
     "metadata": {},
     "output_type": "execute_result"
    },
    {
     "data": {
      "image/png": "[encoded data removed]",
      "text/plain": [
       "<Figure size 432x288 with 1 Axes>"
      ]
     },
     "metadata": {
      "needs_background": "light"
     },
     "output_type": "display_data"
    }
   ],
   "source": [
    "plt.imshow(img_irisEnhanced )"
   ]
  },
  {
   "cell_type": "code",
   "execution_count": 20,
   "id": "11b8c673",
   "metadata": {},
   "outputs": [],
   "source": [
    "#df = pd.DataFrame(features_dict).T"
   ]
  },
  {
   "cell_type": "code",
   "execution_count": 231,
   "id": "a88802b3",
   "metadata": {},
   "outputs": [
    {
     "data": {
      "text/plain": [
       "(428, 769)"
      ]
     },
     "execution_count": 231,
     "metadata": {},
     "output_type": "execute_result"
    }
   ],
   "source": [
    "df_test.shape"
   ]
  },
  {
   "cell_type": "code",
   "execution_count": 232,
   "id": "fb3f3a57",
   "metadata": {},
   "outputs": [
    {
     "data": {
      "text/plain": [
       "(321, 769)"
      ]
     },
     "execution_count": 232,
     "metadata": {},
     "output_type": "execute_result"
    }
   ],
   "source": [
    "df.shape"
   ]
  },
  {
   "cell_type": "code",
   "execution_count": 225,
   "id": "83bfd406",
   "metadata": {},
   "outputs": [],
   "source": [
    "cols = [str(x) for x in df_test.columns]\n",
    "df_test.columns = cols"
   ]
  },
  {
   "cell_type": "code",
   "execution_count": 226,
   "id": "57eeef71",
   "metadata": {},
   "outputs": [],
   "source": [
    "eyeNum = [int(x[:3]) for x in df.index]\n",
    "df['eyeNum'] = eyeNum"
   ]
  },
  {
   "cell_type": "code",
   "execution_count": 227,
   "id": "17f66e91",
   "metadata": {},
   "outputs": [],
   "source": [
    "eyeNum = [int(x[:3]) for x in df_test.index]\n",
    "df_test['eyeNum'] = eyeNum"
   ]
  },
  {
   "cell_type": "code",
   "execution_count": 238,
   "id": "7453d3d0",
   "metadata": {},
   "outputs": [],
   "source": [
    "df = pd.concat([df, df_test])"
   ]
  },
  {
   "cell_type": "code",
   "execution_count": 242,
   "id": "9ebbe655",
   "metadata": {
    "scrolled": true
   },
   "outputs": [],
   "source": [
    "from sklearn import tree\n",
    "from sklearn.datasets import load_iris\n",
    "from sklearn.metrics import accuracy_score\n",
    "import numpy\n",
    "\n",
    "x_coordinate = df.values[ :, :-1]\n",
    "y_coordinate =  df.values[ :, -1:]\n",
    "#print(x_coordinate.shape)\n",
    "\n",
    "\n",
    "\n",
    "x_coordinate_real = x_coordinate[321:]\n",
    "y_coordinate_real = y_coordinate[321:]\n",
    "\n",
    "x_coordinate_train = x_coordinate[:321]\n",
    "y_coordinate_train =y_coordinate[:321]\n"
   ]
  },
  {
   "cell_type": "code",
   "execution_count": 243,
   "id": "54e4f05a",
   "metadata": {
    "scrolled": false
   },
   "outputs": [
    {
     "name": "stdout",
     "output_type": "stream",
     "text": [
      "(321, 768)\n",
      "(428, 768)\n",
      "[ 86.  88.  42.  82. 104.  42.  32.   6. 101.  39.  29.  96.   8.  86.\n",
      "   4.  96.  94.   5.  27.  91.  19.  45.  33. 105.   9.  98.  82.  98.\n",
      "  17.  88.  17.  42.   5.   5.  96. 105.  49.  70.  25.  10.  69.  89.\n",
      "  49.  97.  68. 104.  22.  75.  57.  74.  98.  13.  74.  67.  71.  42.\n",
      "  40.  77.  29. 104.  10.  44.  97.  74.  45.  37.  42. 107.  71.  46.\n",
      "  39.  73.  60.  22.  20.  42.  69.   2.  80.  79.  24.  68.  42.  42.\n",
      "  94.   2. 102.  40.  20.  40.  78.  60.  11.  80.  37.  37.  16.  48.\n",
      "   5.  56.  50.  55.  16.   3.  79.  30.   4.  42.  46.  13.  20.  71.\n",
      "  77.  21.  71.  43.  58.  57.  17.  48.  47.  62.  29.  85.  42.  32.\n",
      "  96.   5.  72.  57.  26.  34.  88.  49.  34.  16.  29.   9.  58.  32.\n",
      "  12.  43.   7.  95.  95.  23.  90.  72.  23.   2.  70.  74.  14.  14.\n",
      "  24.  14.   5.  24.  32.  31.  70.  12.  19.  63.   9.  29.  73.  55.\n",
      "  94.  42.  42. 104.  52.   5.  30.  34.  33.  80. 107. 105.  16.  98.\n",
      "  94.  89.  89.  72.  42.  76.  17. 102.  45.  72.  62.  41.  37.  62.\n",
      " 104.  56.  63.  81.  98.  41.  91.  23.  37.  77.  96.  38.  14.  48.\n",
      "  14.  53.  33. 105.  22. 105.  58.  80.  55.  85. 105.  27.  85.  19.\n",
      "  89.  17.  77.  57.  89.  59.  17.  74.   7. 104.  98. 107.  42.  33.\n",
      "  89.  49.  14. 100. 101.  94.   9.  16.  96.  99.  63.   6.  30. 107.\n",
      "  78.  64.   4.  78.  39.  48.  24.  66.  35.  32.  73.  85.  48.  67.\n",
      "  53.  34.  42.  32.  32.  67.  94.  95.  97.  89.  15.  65.  70.  29.\n",
      "  16.  74. 103.   1.  77.  90.  82.  68.   1.  29. 103.  94.  96.  58.\n",
      "  12.  38. 102.  30.  79.  58.  67.   6.  58.  24.  63.  73.  74.  32.\n",
      "  21. 107.  49.  77.  75.  44.  32.  38.  52. 104.  55.  89.  83.  49.\n",
      "  91.   5. 106.  66.  12.  91.   8.  83.  13.  31.   5.  36.  27.  24.\n",
      "  48.  86.  27.   2.   9.  73.  32.  74. 104.  77.   9.  13.   9.  55.\n",
      "  74.  85.  86.  46.  25.  21.  78.  90.  16.  60.  51.  80.  51.  91.\n",
      "  96. 104.  24.  22.  42.  12.  34.  71.   8.  80.  43.  43.  89.  20.\n",
      "  49.  71.  12.  42.  71.  19. 102.  75. 103.  63. 106.  80.  73.  99.\n",
      "  24.  58.  42.  88.  36.  19.  75.  36.  77.  94.  50.  58.  29.  43.\n",
      "  29. 103.  65. 103.  27. 103.  77.  35.  94. 101.   2.  65.  65.   5.\n",
      "   1. 106. 107.  98.  11.  90.  23.  35.]\n",
      "Accuracy in percent: 4.44\n"
     ]
    }
   ],
   "source": [
    "print(x_coordinate_train.shape)\n",
    "print(x_coordinate_real.shape)\n",
    "\n",
    "\n",
    "data_classification = tree.DecisionTreeClassifier()\n",
    "data_classification.fit(x_coordinate_train,y_coordinate_train)\n",
    "prediction = data_classification.predict(x_coordinate_real)\n",
    "#eye number \n",
    "print(prediction)\n",
    "#print(y_coordinate_real)\n",
    "print(\"Accuracy in percent: %.2f\" %((accuracy_score(prediction,y_coordinate_real)) * 100))"
   ]
  },
  {
   "cell_type": "code",
   "execution_count": 37,
   "id": "32b711de",
   "metadata": {},
   "outputs": [],
   "source": [
    "from matplotlib import style\n",
    "style.use('fivethirtyeight')"
   ]
  },
  {
   "cell_type": "code",
   "execution_count": 63,
   "id": "ed165608",
   "metadata": {},
   "outputs": [
    {
     "name": "stderr",
     "output_type": "stream",
     "text": [
      "/Users/Yo/opt/anaconda3/lib/python3.8/site-packages/sklearn/utils/validation.py:72: DataConversionWarning: A column-vector y was passed when a 1d array was expected. Please change the shape of y to (n_samples, ), for example using ravel().\n",
      "  return f(**kwargs)\n",
      "/Users/Yo/opt/anaconda3/lib/python3.8/site-packages/sklearn/utils/validation.py:72: DataConversionWarning: A column-vector y was passed when a 1d array was expected. Please change the shape of y to (n_samples, ), for example using ravel().\n",
      "  return f(**kwargs)\n"
     ]
    },
    {
     "name": "stdout",
     "output_type": "stream",
     "text": [
      "explained variance ratio (first three components): [0.07372471 0.03594085 0.03118712 0.03014235]\n"
     ]
    }
   ],
   "source": [
    "import matplotlib.pyplot as plt\n",
    "\n",
    "from sklearn import datasets\n",
    "from sklearn.decomposition import PCA\n",
    "from sklearn.discriminant_analysis import LinearDiscriminantAnalysis\n",
    "\n",
    "iris = datasets.load_iris()\n",
    "\n",
    "X = x_coordinate_train\n",
    "y = y_coordinate_train\n",
    "\n",
    "pca = PCA(n_components=4)\n",
    "X_r = pca.fit(X).transform(X)\n",
    "X_r_test = pca.fit(X).transform(x_coordinate_real)\n",
    "\n",
    "\n",
    "\n",
    "\n",
    "lda = LinearDiscriminantAnalysis(n_components=4)\n",
    "X_r2 = lda.fit(X, y).transform(X)\n",
    "\n",
    "X_r2_test = lda.fit(X, y).transform(x_coordinate_real)\n",
    "# Percentage of variance explained for each components\n",
    "print(\n",
    "    \"explained variance ratio (first three components): %s\"\n",
    "    % str(pca.explained_variance_ratio_)\n",
    ")\n",
    "\n"
   ]
  },
  {
   "cell_type": "code",
   "execution_count": 84,
   "id": "7c157ef7",
   "metadata": {},
   "outputs": [
    {
     "name": "stdout",
     "output_type": "stream",
     "text": [
      "[ 65.  12.  33.  44.  89.   4.  65.  26.  88.  66.  99.  82.  28.  75.\n",
      "  63.  73.  18.  96.  68.   6.  58.  64.  82.  12.  99.  40.  79.  88.\n",
      "  26.  14.  67.  28. 107.  25.  38.  25.  90.  28. 104.   4.  40.  20.\n",
      "  25. 102.  29.  80.  47.  81.   1.   2.  51.  72.  61.  89.   1.  26.\n",
      "  26.  19.  82.  84.  38.   1.  81.  64.  30.  29.  25.  95.  34.  73.\n",
      "  75.  18.  26.  63.  14.  22.   1.  64.  88.  72.  81.  54.  83.  68.\n",
      "  55.  58.  26.  26.  15.  24.  18.  63.  95.  21.  84.  43.  88.  23.\n",
      "  90.  60.  91.  25.  73.  73.  76.  82. 102.]\n",
      "Accuracy in percent: 4.67\n"
     ]
    }
   ],
   "source": [
    "data_classification = tree.DecisionTreeClassifier()\n",
    "data_classification.fit(X_r2,y)\n",
    "prediction = data_classification.predict(X_r2_test)\n",
    "#eye number \n",
    "print(prediction)\n",
    "#print(y_coordinate_real)\n",
    "print(\"Accuracy in percent: %.2f\" %((accuracy_score(prediction,y_coordinate_real)) * 100))"
   ]
  },
  {
   "cell_type": "code",
   "execution_count": 67,
   "id": "4922bc1c",
   "metadata": {},
   "outputs": [
    {
     "name": "stdout",
     "output_type": "stream",
     "text": [
      "[ 81.  84.  36.  69.  39.   4.  68.  24.  88.  92.  25.  69.  40.  97.\n",
      "  48.  92.  69.  92.  36.  52.  20.   8.  48.  24.  52.  57.  86.  16.\n",
      "  25.  75.  67. 106.  47.  84.  69.  33.  40.  15.  89.   6.  31.   5.\n",
      "  19.  60.  76.  82.  47. 106. 103.  77.  50.  29.  34.  78.  85.  89.\n",
      "   4.  89.  40.  63.  70.  10.  69.  59.  69.  73.  23.  91.  67.  70.\n",
      "  53.  68.  40.  69.  81.  40.  69.   3. 102.  29.   5.  69.  69.  43.\n",
      "  66. 103.  39.  69.  89. 103.  58. 106.  53.  21.  53.  84.  86.   7.\n",
      "  35.  69. 101.  26.  50.  40.   3.   8.   3.]\n",
      "Accuracy in percent: 4.67\n"
     ]
    }
   ],
   "source": [
    "data_classification = tree.DecisionTreeClassifier()\n",
    "data_classification.fit(X_r,y)\n",
    "prediction = data_classification.predict(X_r_test)\n",
    "#eye number \n",
    "print(prediction)\n",
    "#print(y_coordinate_real)\n",
    "print(\"Accuracy in percent: %.2f\" %((accuracy_score(prediction,y_coordinate_real)) * 100))"
   ]
  },
  {
   "cell_type": "code",
   "execution_count": 71,
   "id": "0b5f6468",
   "metadata": {},
   "outputs": [],
   "source": [
    "df.to_csv('img_featues.csv')"
   ]
  },
  {
   "cell_type": "code",
   "execution_count": 268,
   "id": "b481a412",
   "metadata": {},
   "outputs": [],
   "source": [
    "def reduce_dim(X_train,X_test, y_train, y_test, num, method = \"LDA\"):\n",
    "    '''TRAINING'''\n",
    "    \n",
    "    #fit the LDA/PCA model on training data with num components\n",
    "    if method == \"LDA\":\n",
    "        dimred = LinearDiscriminantAnalysis(n_components=num)\n",
    "        dimred.fit(X_train,y_train)\n",
    "    elif method == \"PCA\":\n",
    "        dimred = PCA(n_components=num)\n",
    "        dimred.fit(X)\n",
    "    #transform the traning data\n",
    "    r_train=dimred.transform(X_train)\n",
    "    \n",
    "    '''TESTING'''\n",
    "\n",
    "    \n",
    "    #transform the testing data\n",
    "    r_test=dimred.transform(X_test)\n",
    "    \n",
    "    \n",
    "    #get a list of predicted values for the testing data to calculate ROC\n",
    "    y_pred = []\n",
    "    if method == \"LDA\":\n",
    "        y_pred=dimred.predict(X_test)\n",
    "    \n",
    "    #return transformed training and testing data, and the testing classes and predicted values for ROC\n",
    "    return r_train,r_test, y_pred"
   ]
  },
  {
   "cell_type": "code",
   "execution_count": 248,
   "id": "4d0a48a1",
   "metadata": {},
   "outputs": [],
   "source": [
    "x_coordinate = df.values[ :, :-1]\n",
    "y_coordinate =  df.values[ :, -1:]\n",
    "\n",
    "X_test = x_coordinate[321:]\n",
    "y_test = y_coordinate[321:].reshape(428, )\n",
    "\n",
    "X_train = x_coordinate[:321]\n",
    "y_train = y_coordinate[:321].reshape(321,)\n"
   ]
  },
  {
   "cell_type": "code",
   "execution_count": 249,
   "id": "0206c879",
   "metadata": {},
   "outputs": [
    {
     "data": {
      "text/plain": [
       "(428,)"
      ]
     },
     "execution_count": 249,
     "metadata": {},
     "output_type": "execute_result"
    }
   ],
   "source": [
    "y_test.shape"
   ]
  },
  {
   "cell_type": "code",
   "execution_count": 250,
   "id": "9e861832",
   "metadata": {},
   "outputs": [
    {
     "data": {
      "text/plain": [
       "(321,)"
      ]
     },
     "execution_count": 250,
     "metadata": {},
     "output_type": "execute_result"
    }
   ],
   "source": [
    "y_train.shape"
   ]
  },
  {
   "cell_type": "code",
   "execution_count": 251,
   "id": "e9c13c8f",
   "metadata": {},
   "outputs": [],
   "source": [
    "red_train,red_test, y_pred = reduce_dim(\n",
    "    X_train,X_test, y_train, y_test, 4)"
   ]
  },
  {
   "cell_type": "code",
   "execution_count": 252,
   "id": "1975070e",
   "metadata": {},
   "outputs": [
    {
     "data": {
      "text/plain": [
       "0.4135514018691589"
      ]
     },
     "execution_count": 252,
     "metadata": {},
     "output_type": "execute_result"
    }
   ],
   "source": [
    "(y_test == y_pred).sum()/len(y_test)"
   ]
  },
  {
   "cell_type": "code",
   "execution_count": 253,
   "id": "a9db3469",
   "metadata": {},
   "outputs": [],
   "source": [
    "from scipy.spatial import distance"
   ]
  },
  {
   "cell_type": "code",
   "execution_count": 269,
   "id": "6184bec7",
   "metadata": {},
   "outputs": [],
   "source": [
    "def IrisMatching(X_train, X_test, y_train, y_test, num, keep_dim, method = \"LDA\"):\n",
    "    \n",
    "    #if keep_dim is 1, dimesionality is not reduced. If it is 0, we use the reduce_dim function\n",
    "    if keep_dim==1:\n",
    "        r_train=X_train\n",
    "        r_test=X_test\n",
    "        \n",
    "    elif keep_dim==0:\n",
    "        r_train,r_test,y_pred=reduce_dim(X_train,X_test, y_train, y_test, num, method)\n",
    "\n",
    "    \n",
    "    list_L1=[]\n",
    "    list_L2=[]\n",
    "    list_cosine=[]\n",
    "    min_cosine=[]\n",
    "    \n",
    "    for i in range(0,len(r_test)):\n",
    "        L1=[]\n",
    "        L2=[]\n",
    "        Cosine=[]\n",
    "        \n",
    "        for j in range(0,len(r_train)):\n",
    "            f=r_test[i]\n",
    "            fi=r_train[j]\n",
    "            sumL1=0 #L1 distance\n",
    "            sumL2=0 #L2 distance\n",
    "            cosinedist=0 #cosine distance\n",
    "\n",
    "            sumL1 = distance.cityblock(f, fi)\n",
    "            sumL2 = distance.euclidean(f, fi)\n",
    "            cosinedist = distance.cosine(f, fi)\n",
    "\n",
    "            L1.append(sumL1)\n",
    "            L2.append(sumL2)\n",
    "            Cosine.append(cosinedist)\n",
    "        list_L1.append(L1.index(min(L1)))\n",
    "        list_L2.append(L2.index(min(L2)))\n",
    "        list_cosine.append(Cosine.index(min(Cosine)))\n",
    "        min_cosine.append(min(Cosine))\n",
    "        \n",
    "    match=0\n",
    "    count=0\n",
    "    \n",
    "    correct_L1=[]\n",
    "    correct_L2=[]\n",
    "    correct_cosine=[]\n",
    "    correct_cosine_ROC=[]\n",
    "    \n",
    "    thresh=[0.4,0.5,0.6]\n",
    "    \n",
    "    for x in range(0,len(thresh)):\n",
    "        correct_ROC=[]\n",
    "        for y in range(0,len(min_cosine)):\n",
    "            if min_cosine[y]<=thresh[x]:\n",
    "                correct_ROC.append(1)\n",
    "            else:\n",
    "                correct_ROC.append(0)\n",
    "        correct_cosine_ROC.append(correct_ROC)\n",
    "        \n",
    "    \n",
    "    for k in range(0,len(list_L1)):\n",
    "        if count<4:\n",
    "            count+=1\n",
    "        else:\n",
    "            match+=3\n",
    "            count=1\n",
    "            \n",
    "        if list_L1[k] in range(match,match+3):\n",
    "                correct_L1.append(1)\n",
    "        else:\n",
    "            correct_L1.append(0)\n",
    "        if list_L2[k] in range(match,match+3):\n",
    "            correct_L2.append(1)\n",
    "        else:\n",
    "            correct_L2.append(0)\n",
    "        if list_cosine[k] in range(match,match+3):\n",
    "            correct_cosine.append(1)\n",
    "        else:\n",
    "            correct_cosine.append(0)\n",
    "\n",
    "    return correct_L1,correct_L2,correct_cosine,correct_cosine_ROC"
   ]
  },
  {
   "cell_type": "code",
   "execution_count": 270,
   "id": "49d85b36",
   "metadata": {},
   "outputs": [],
   "source": [
    "def PerformanceEvaluation(correct_L1,correct_L2,correct_cosine):\n",
    "    \n",
    "    numRight_L1 = sum(correct_L1)\n",
    "    numRight_L2 = sum(correct_L2)\n",
    "    numRight_cosine = sum(correct_cosine)\n",
    "    \n",
    "    crr_L1=numRight_L1/len(correct_L1)\n",
    "    crr_L2= numRight_L2/len(correct_L2)\n",
    "    crr_cosine= numRight_cosine/len(correct_cosine)\n",
    "    \n",
    "    \n",
    "    return crr_L1*100,crr_L2*100,crr_cosine*100"
   ]
  },
  {
   "cell_type": "code",
   "execution_count": 277,
   "id": "ef3aaab8",
   "metadata": {
    "scrolled": true
   },
   "outputs": [],
   "source": [
    "match_L1,match_L2,match_cosine,match_cosine_ROC = IrisMatching(X_train,\n",
    "        X_test, y_train, y_test, 4, 0, method = 'PCA')\n"
   ]
  },
  {
   "cell_type": "code",
   "execution_count": 276,
   "id": "bd12f9dd",
   "metadata": {},
   "outputs": [
    {
     "data": {
      "text/plain": [
       "(6.074766355140187, 5.607476635514018, 4.906542056074766)"
      ]
     },
     "execution_count": 276,
     "metadata": {},
     "output_type": "execute_result"
    }
   ],
   "source": [
    "PerformanceEvaluation(match_L1,match_L2,match_cosine)"
   ]
  },
  {
   "cell_type": "code",
   "execution_count": 186,
   "id": "4483f9df",
   "metadata": {},
   "outputs": [
    {
     "data": {
      "text/plain": [
       "107"
      ]
     },
     "execution_count": 186,
     "metadata": {},
     "output_type": "execute_result"
    }
   ],
   "source": [
    "len(match_L1)"
   ]
  },
  {
   "cell_type": "code",
   "execution_count": 294,
   "id": "36cace80",
   "metadata": {},
   "outputs": [
    {
     "name": "stdout",
     "output_type": "stream",
     "text": [
      "CPU times: user 2min 29s, sys: 1.12 s, total: 2min 30s\n",
      "Wall time: 2min 28s\n"
     ]
    }
   ],
   "source": [
    "%%time\n",
    "comps = [10, 40 , 60, 80, 90, 106, 'No Dimensionality Reduction']\n",
    "scores_dict = dict()\n",
    "for i in ['LDA', 'PCA']:\n",
    "    for j in comps:\n",
    "        if j == 'No Dimensionality Reduction':\n",
    "            match_L1,match_L2,match_cosine,match_cosine_ROC = IrisMatching(\n",
    "        X_train, X_test, y_train, y_test, 106, 1, method = i)\n",
    "        else:\n",
    "            match_L1,match_L2,match_cosine,match_cosine_ROC = IrisMatching(\n",
    "        X_train, X_test, y_train, y_test, j, 0, method = i)\n",
    "        scores_dict[(i, j)] = PerformanceEvaluation(match_L1,match_L2,match_cosine)"
   ]
  },
  {
   "cell_type": "code",
   "execution_count": 300,
   "id": "25733de3",
   "metadata": {
    "scrolled": false
   },
   "outputs": [
    {
     "data": {
      "text/html": [
       "<div>\n",
       "<style scoped>\n",
       "    .dataframe tbody tr th:only-of-type {\n",
       "        vertical-align: middle;\n",
       "    }\n",
       "\n",
       "    .dataframe tbody tr th {\n",
       "        vertical-align: top;\n",
       "    }\n",
       "\n",
       "    .dataframe thead th {\n",
       "        text-align: right;\n",
       "    }\n",
       "</style>\n",
       "<table border=\"1\" class=\"dataframe\">\n",
       "  <thead>\n",
       "    <tr style=\"text-align: right;\">\n",
       "      <th></th>\n",
       "      <th></th>\n",
       "      <th>correct_recognition_rate_L1</th>\n",
       "      <th>correct_recognition_rate_L2</th>\n",
       "      <th>correct_recognition_rate_cosine</th>\n",
       "    </tr>\n",
       "  </thead>\n",
       "  <tbody>\n",
       "    <tr>\n",
       "      <th rowspan=\"7\" valign=\"top\">LDA</th>\n",
       "      <th>10</th>\n",
       "      <td>7.242991</td>\n",
       "      <td>7.009346</td>\n",
       "      <td>7.476636</td>\n",
       "    </tr>\n",
       "    <tr>\n",
       "      <th>40</th>\n",
       "      <td>18.691589</td>\n",
       "      <td>23.130841</td>\n",
       "      <td>35.046729</td>\n",
       "    </tr>\n",
       "    <tr>\n",
       "      <th>60</th>\n",
       "      <td>24.299065</td>\n",
       "      <td>28.738318</td>\n",
       "      <td>41.121495</td>\n",
       "    </tr>\n",
       "    <tr>\n",
       "      <th>80</th>\n",
       "      <td>24.766355</td>\n",
       "      <td>30.373832</td>\n",
       "      <td>43.925234</td>\n",
       "    </tr>\n",
       "    <tr>\n",
       "      <th>90</th>\n",
       "      <td>24.065421</td>\n",
       "      <td>30.373832</td>\n",
       "      <td>44.392523</td>\n",
       "    </tr>\n",
       "    <tr>\n",
       "      <th>106</th>\n",
       "      <td>25.000000</td>\n",
       "      <td>32.242991</td>\n",
       "      <td>46.028037</td>\n",
       "    </tr>\n",
       "    <tr>\n",
       "      <th>No Dimensionality Reduction</th>\n",
       "      <td>49.766355</td>\n",
       "      <td>43.457944</td>\n",
       "      <td>39.485981</td>\n",
       "    </tr>\n",
       "    <tr>\n",
       "      <th rowspan=\"7\" valign=\"top\">PCA</th>\n",
       "      <th>10</th>\n",
       "      <td>15.887850</td>\n",
       "      <td>16.822430</td>\n",
       "      <td>15.186916</td>\n",
       "    </tr>\n",
       "    <tr>\n",
       "      <th>40</th>\n",
       "      <td>25.700935</td>\n",
       "      <td>26.168224</td>\n",
       "      <td>31.775701</td>\n",
       "    </tr>\n",
       "    <tr>\n",
       "      <th>60</th>\n",
       "      <td>27.102804</td>\n",
       "      <td>26.635514</td>\n",
       "      <td>35.747664</td>\n",
       "    </tr>\n",
       "    <tr>\n",
       "      <th>80</th>\n",
       "      <td>28.971963</td>\n",
       "      <td>27.803738</td>\n",
       "      <td>38.084112</td>\n",
       "    </tr>\n",
       "    <tr>\n",
       "      <th>90</th>\n",
       "      <td>30.841121</td>\n",
       "      <td>29.205607</td>\n",
       "      <td>40.887850</td>\n",
       "    </tr>\n",
       "    <tr>\n",
       "      <th>106</th>\n",
       "      <td>30.373832</td>\n",
       "      <td>30.841121</td>\n",
       "      <td>43.224299</td>\n",
       "    </tr>\n",
       "    <tr>\n",
       "      <th>No Dimensionality Reduction</th>\n",
       "      <td>49.766355</td>\n",
       "      <td>43.457944</td>\n",
       "      <td>39.485981</td>\n",
       "    </tr>\n",
       "  </tbody>\n",
       "</table>\n",
       "</div>"
      ],
      "text/plain": [
       "                                 correct_recognition_rate_L1  \\\n",
       "LDA 10                                              7.242991   \n",
       "    40                                             18.691589   \n",
       "    60                                             24.299065   \n",
       "    80                                             24.766355   \n",
       "    90                                             24.065421   \n",
       "    106                                            25.000000   \n",
       "    No Dimensionality Reduction                    49.766355   \n",
       "PCA 10                                             15.887850   \n",
       "    40                                             25.700935   \n",
       "    60                                             27.102804   \n",
       "    80                                             28.971963   \n",
       "    90                                             30.841121   \n",
       "    106                                            30.373832   \n",
       "    No Dimensionality Reduction                    49.766355   \n",
       "\n",
       "                                 correct_recognition_rate_L2  \\\n",
       "LDA 10                                              7.009346   \n",
       "    40                                             23.130841   \n",
       "    60                                             28.738318   \n",
       "    80                                             30.373832   \n",
       "    90                                             30.373832   \n",
       "    106                                            32.242991   \n",
       "    No Dimensionality Reduction                    43.457944   \n",
       "PCA 10                                             16.822430   \n",
       "    40                                             26.168224   \n",
       "    60                                             26.635514   \n",
       "    80                                             27.803738   \n",
       "    90                                             29.205607   \n",
       "    106                                            30.841121   \n",
       "    No Dimensionality Reduction                    43.457944   \n",
       "\n",
       "                                 correct_recognition_rate_cosine  \n",
       "LDA 10                                                  7.476636  \n",
       "    40                                                 35.046729  \n",
       "    60                                                 41.121495  \n",
       "    80                                                 43.925234  \n",
       "    90                                                 44.392523  \n",
       "    106                                                46.028037  \n",
       "    No Dimensionality Reduction                        39.485981  \n",
       "PCA 10                                                 15.186916  \n",
       "    40                                                 31.775701  \n",
       "    60                                                 35.747664  \n",
       "    80                                                 38.084112  \n",
       "    90                                                 40.887850  \n",
       "    106                                                43.224299  \n",
       "    No Dimensionality Reduction                        39.485981  "
      ]
     },
     "execution_count": 300,
     "metadata": {},
     "output_type": "execute_result"
    }
   ],
   "source": [
    "cols = [\"correct_recognition_rate_L1\", \"correct_recognition_rate_L2\",\n",
    "        \"correct_recognition_rate_cosine\"]\n",
    "scores = pd.DataFrame(scores_dict).T\n",
    "scores.columns = cols\n",
    "scores"
   ]
  },
  {
   "cell_type": "code",
   "execution_count": 297,
   "id": "d7127696",
   "metadata": {},
   "outputs": [
    {
     "data": {
      "text/plain": [
       "{('LDA', 10): (7.242990654205607, 7.009345794392523, 7.476635514018691),\n",
       " ('LDA', 40): (18.69158878504673, 23.130841121495326, 35.046728971962615),\n",
       " ('LDA', 60): (24.299065420560748, 28.738317757009348, 41.1214953271028),\n",
       " ('LDA', 80): (24.766355140186917, 30.373831775700932, 43.925233644859816),\n",
       " ('LDA', 90): (24.065420560747665, 30.373831775700932, 44.39252336448598),\n",
       " ('LDA', 106): (25.0, 32.242990654205606, 46.02803738317757),\n",
       " ('LDA', 'No Dimensionality Reduction'): (49.76635514018692,\n",
       "  43.45794392523364,\n",
       "  39.48598130841122),\n",
       " ('PCA', 10): (15.887850467289718, 16.822429906542055, 15.186915887850466),\n",
       " ('PCA', 40): (25.70093457943925, 26.168224299065418, 31.775700934579437),\n",
       " ('PCA', 60): (27.102803738317753, 26.635514018691588, 35.74766355140187),\n",
       " ('PCA', 80): (28.971962616822427, 27.80373831775701, 38.084112149532714),\n",
       " ('PCA', 90): (30.8411214953271, 29.205607476635514, 40.887850467289724),\n",
       " ('PCA', 106): (30.373831775700932, 30.8411214953271, 43.22429906542056),\n",
       " ('PCA', 'No Dimensionality Reduction'): (49.76635514018692,\n",
       "  43.45794392523364,\n",
       "  39.48598130841122)}"
      ]
     },
     "execution_count": 297,
     "metadata": {},
     "output_type": "execute_result"
    }
   ],
   "source": [
    "scores_dict"
   ]
  },
  {
   "cell_type": "code",
   "execution_count": 299,
   "id": "9d94c367",
   "metadata": {},
   "outputs": [
    {
     "data": {
      "text/html": [
       "<div>\n",
       "<style scoped>\n",
       "    .dataframe tbody tr th:only-of-type {\n",
       "        vertical-align: middle;\n",
       "    }\n",
       "\n",
       "    .dataframe tbody tr th {\n",
       "        vertical-align: top;\n",
       "    }\n",
       "\n",
       "    .dataframe thead th {\n",
       "        text-align: right;\n",
       "    }\n",
       "</style>\n",
       "<table border=\"1\" class=\"dataframe\">\n",
       "  <thead>\n",
       "    <tr style=\"text-align: right;\">\n",
       "      <th></th>\n",
       "      <th></th>\n",
       "      <th>0</th>\n",
       "      <th>1</th>\n",
       "      <th>2</th>\n",
       "    </tr>\n",
       "  </thead>\n",
       "  <tbody>\n",
       "    <tr>\n",
       "      <th rowspan=\"7\" valign=\"top\">LDA</th>\n",
       "      <th>10</th>\n",
       "      <td>7.242991</td>\n",
       "      <td>7.009346</td>\n",
       "      <td>7.476636</td>\n",
       "    </tr>\n",
       "    <tr>\n",
       "      <th>40</th>\n",
       "      <td>18.691589</td>\n",
       "      <td>23.130841</td>\n",
       "      <td>35.046729</td>\n",
       "    </tr>\n",
       "    <tr>\n",
       "      <th>60</th>\n",
       "      <td>24.299065</td>\n",
       "      <td>28.738318</td>\n",
       "      <td>41.121495</td>\n",
       "    </tr>\n",
       "    <tr>\n",
       "      <th>80</th>\n",
       "      <td>24.766355</td>\n",
       "      <td>30.373832</td>\n",
       "      <td>43.925234</td>\n",
       "    </tr>\n",
       "    <tr>\n",
       "      <th>90</th>\n",
       "      <td>24.065421</td>\n",
       "      <td>30.373832</td>\n",
       "      <td>44.392523</td>\n",
       "    </tr>\n",
       "    <tr>\n",
       "      <th>106</th>\n",
       "      <td>25.000000</td>\n",
       "      <td>32.242991</td>\n",
       "      <td>46.028037</td>\n",
       "    </tr>\n",
       "    <tr>\n",
       "      <th>No Dimensionality Reduction</th>\n",
       "      <td>49.766355</td>\n",
       "      <td>43.457944</td>\n",
       "      <td>39.485981</td>\n",
       "    </tr>\n",
       "    <tr>\n",
       "      <th rowspan=\"7\" valign=\"top\">PCA</th>\n",
       "      <th>10</th>\n",
       "      <td>15.887850</td>\n",
       "      <td>16.822430</td>\n",
       "      <td>15.186916</td>\n",
       "    </tr>\n",
       "    <tr>\n",
       "      <th>40</th>\n",
       "      <td>25.700935</td>\n",
       "      <td>26.168224</td>\n",
       "      <td>31.775701</td>\n",
       "    </tr>\n",
       "    <tr>\n",
       "      <th>60</th>\n",
       "      <td>27.102804</td>\n",
       "      <td>26.635514</td>\n",
       "      <td>35.747664</td>\n",
       "    </tr>\n",
       "    <tr>\n",
       "      <th>80</th>\n",
       "      <td>28.971963</td>\n",
       "      <td>27.803738</td>\n",
       "      <td>38.084112</td>\n",
       "    </tr>\n",
       "    <tr>\n",
       "      <th>90</th>\n",
       "      <td>30.841121</td>\n",
       "      <td>29.205607</td>\n",
       "      <td>40.887850</td>\n",
       "    </tr>\n",
       "    <tr>\n",
       "      <th>106</th>\n",
       "      <td>30.373832</td>\n",
       "      <td>30.841121</td>\n",
       "      <td>43.224299</td>\n",
       "    </tr>\n",
       "    <tr>\n",
       "      <th>No Dimensionality Reduction</th>\n",
       "      <td>49.766355</td>\n",
       "      <td>43.457944</td>\n",
       "      <td>39.485981</td>\n",
       "    </tr>\n",
       "  </tbody>\n",
       "</table>\n",
       "</div>"
      ],
      "text/plain": [
       "                                         0          1          2\n",
       "LDA 10                            7.242991   7.009346   7.476636\n",
       "    40                           18.691589  23.130841  35.046729\n",
       "    60                           24.299065  28.738318  41.121495\n",
       "    80                           24.766355  30.373832  43.925234\n",
       "    90                           24.065421  30.373832  44.392523\n",
       "    106                          25.000000  32.242991  46.028037\n",
       "    No Dimensionality Reduction  49.766355  43.457944  39.485981\n",
       "PCA 10                           15.887850  16.822430  15.186916\n",
       "    40                           25.700935  26.168224  31.775701\n",
       "    60                           27.102804  26.635514  35.747664\n",
       "    80                           28.971963  27.803738  38.084112\n",
       "    90                           30.841121  29.205607  40.887850\n",
       "    106                          30.373832  30.841121  43.224299\n",
       "    No Dimensionality Reduction  49.766355  43.457944  39.485981"
      ]
     },
     "execution_count": 299,
     "metadata": {},
     "output_type": "execute_result"
    }
   ],
   "source": [
    "pd.DataFrame(scores_dict).T"
   ]
  },
  {
   "cell_type": "code",
   "execution_count": null,
   "id": "124ac2cb",
   "metadata": {},
   "outputs": [],
   "source": []
  }
 ],
 "metadata": {
  "kernelspec": {
   "display_name": "Python 3",
   "language": "python",
   "name": "python3"
  },
  "language_info": {
   "codemirror_mode": {
    "name": "ipython",
    "version": 3
   },
   "file_extension": ".py",
   "mimetype": "text/x-python",
   "name": "python",
   "nbconvert_exporter": "python",
   "pygments_lexer": "ipython3",
   "version": "3.7.6"
  }
 },
 "nbformat": 4,
 "nbformat_minor": 5
}
