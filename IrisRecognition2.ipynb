{
 "cells": [
  {
   "cell_type": "markdown",
   "id": "89eed2f6",
   "metadata": {},
   "source": [
    "### Iris Recognition\n",
    "\n",
    "This is the main iris recognition function that calls the following subfunctions:\n",
    "\n",
    "* IrisLocalization\n",
    "* IrisNormalization\n",
    "* ImageEnhancement\n",
    "* FeatureExtraction\n",
    "* IrisMatching\n",
    "* PerformanceEvaluation"
   ]
  },
  {
   "cell_type": "code",
   "execution_count": 1,
   "id": "c18a7a9d",
   "metadata": {},
   "outputs": [],
   "source": [
    "# import necessary libraries\n",
    "import os\n",
    "import cv2\n",
    "import numpy as np\n",
    "import matplotlib.pyplot as plt\n",
    "from IrisLocalization import IrisLocalization\n",
    "from IrisNormalization import IrisNormalization"
   ]
  },
  {
   "cell_type": "code",
   "execution_count": null,
   "id": "954dbc9b",
   "metadata": {
    "scrolled": true
   },
   "outputs": [
    {
     "name": "stdout",
     "output_type": "stream",
     "text": [
      "1\n"
     ]
    }
   ],
   "source": [
    "# consider each eye in the training sets (three images from all first sessions)\n",
    "path = \"datasets-2\"\n",
    "dataFolder = \"CASIA Iris Image Database (version 1.0)\"\n",
    "escHit = False\n",
    "\n",
    "for eyeNum in range(1, 2):\n",
    "    if eyeNum <= 9:\n",
    "        eyeId = \"00\" + str(eyeNum)\n",
    "    elif 10 <= eyeNum <= 99:\n",
    "        eyeId = \"0\" + str(eyeNum)\n",
    "    else:\n",
    "        eyeId = str(eyeNum)\n",
    "        \n",
    "    imgPath = os.path.join(path, dataFolder, eyeId, \"1\")\n",
    "    for sample in range(1,4):   \n",
    "        print(sample)\n",
    "        imgFilename = eyeId + \"_1_\" + str(sample) + \".bmp\"\n",
    "        \n",
    "        # IrisLocation\n",
    "        img_irisLocation, radii, xy = IrisLocalization(imgPath, imgFilename)\n",
    "        img_normalization = IrisNormalization(imgPath, imgFilename, xy, radii)\n",
    "        cv2.imshow(imgFilename, img_normalization)\n",
    "        \n",
    "        key = cv2.waitKey(0)\n",
    "        if key == 27:\n",
    "            cv2.destroyAllWindows()\n",
    "            escHit = True\n",
    "            break\n",
    "            \n",
    "    if escHit:\n",
    "        break\n",
    "            \n",
    "    eyeNum += 1"
   ]
  },
  {
   "cell_type": "code",
   "execution_count": 17,
   "id": "3c94e335",
   "metadata": {
    "scrolled": false
   },
   "outputs": [
    {
     "name": "stdout",
     "output_type": "stream",
     "text": [
      "datasets-2/CASIA Iris Image Database (version 1.0)/001/1\n",
      "None\n"
     ]
    },
    {
     "ename": "error",
     "evalue": "OpenCV(4.2.0) /Users/travis/build/skvark/opencv-python/opencv/modules/imgproc/src/color.cpp:182: error: (-215:Assertion failed) !_src.empty() in function 'cvtColor'\n",
     "output_type": "error",
     "traceback": [
      "\u001b[0;31m---------------------------------------------------------------------------\u001b[0m",
      "\u001b[0;31merror\u001b[0m                                     Traceback (most recent call last)",
      "\u001b[0;32m<ipython-input-17-b7db64ea47c6>\u001b[0m in \u001b[0;36m<module>\u001b[0;34m\u001b[0m\n\u001b[1;32m      7\u001b[0m \u001b[0mimg_org\u001b[0m \u001b[0;34m=\u001b[0m \u001b[0mcv2\u001b[0m\u001b[0;34m.\u001b[0m\u001b[0mimread\u001b[0m\u001b[0;34m(\u001b[0m\u001b[0mimgPath\u001b[0m\u001b[0;34m+\u001b[0m \u001b[0;34m'/'\u001b[0m \u001b[0;34m+\u001b[0m \u001b[0mimgFilename\u001b[0m\u001b[0;34m)\u001b[0m\u001b[0;34m\u001b[0m\u001b[0;34m\u001b[0m\u001b[0m\n\u001b[1;32m      8\u001b[0m \u001b[0mprint\u001b[0m\u001b[0;34m(\u001b[0m\u001b[0mimg_org\u001b[0m\u001b[0;34m)\u001b[0m\u001b[0;34m\u001b[0m\u001b[0;34m\u001b[0m\u001b[0m\n\u001b[0;32m----> 9\u001b[0;31m \u001b[0mimg_irisLocation\u001b[0m\u001b[0;34m,\u001b[0m\u001b[0mradii\u001b[0m\u001b[0;34m,\u001b[0m\u001b[0mxy\u001b[0m \u001b[0;34m=\u001b[0m \u001b[0mIrisLocalization\u001b[0m\u001b[0;34m(\u001b[0m\u001b[0mimgPath\u001b[0m\u001b[0;34m,\u001b[0m \u001b[0mimgFilename\u001b[0m\u001b[0;34m)\u001b[0m\u001b[0;34m\u001b[0m\u001b[0;34m\u001b[0m\u001b[0m\n\u001b[0m",
      "\u001b[0;32m~/Dropbox/My Mac (yos-MacBook-Pro.local)/Downloads/Iris Recognition-2/IrisLocalization.py\u001b[0m in \u001b[0;36mIrisLocalization\u001b[0;34m(imgPath, imgFilename)\u001b[0m\n\u001b[1;32m     17\u001b[0m     \u001b[0mimgName\u001b[0m \u001b[0;34m=\u001b[0m \u001b[0mos\u001b[0m\u001b[0;34m.\u001b[0m\u001b[0mpath\u001b[0m\u001b[0;34m.\u001b[0m\u001b[0mjoin\u001b[0m\u001b[0;34m(\u001b[0m\u001b[0mimgPath\u001b[0m\u001b[0;34m,\u001b[0m \u001b[0mimgFilename\u001b[0m\u001b[0;34m)\u001b[0m\u001b[0;34m\u001b[0m\u001b[0;34m\u001b[0m\u001b[0m\n\u001b[1;32m     18\u001b[0m     \u001b[0mimg_org\u001b[0m \u001b[0;34m=\u001b[0m \u001b[0mcv2\u001b[0m\u001b[0;34m.\u001b[0m\u001b[0mimread\u001b[0m\u001b[0;34m(\u001b[0m\u001b[0mimgName\u001b[0m\u001b[0;34m)\u001b[0m\u001b[0;34m\u001b[0m\u001b[0;34m\u001b[0m\u001b[0m\n\u001b[0;32m---> 19\u001b[0;31m     \u001b[0mimg_gray\u001b[0m \u001b[0;34m=\u001b[0m \u001b[0mcv2\u001b[0m\u001b[0;34m.\u001b[0m\u001b[0mcvtColor\u001b[0m\u001b[0;34m(\u001b[0m\u001b[0mimg_org\u001b[0m\u001b[0;34m,\u001b[0m \u001b[0mcv2\u001b[0m\u001b[0;34m.\u001b[0m\u001b[0mCOLOR_BGR2GRAY\u001b[0m\u001b[0;34m)\u001b[0m\u001b[0;34m\u001b[0m\u001b[0;34m\u001b[0m\u001b[0m\n\u001b[0m\u001b[1;32m     20\u001b[0m \u001b[0;34m\u001b[0m\u001b[0m\n\u001b[1;32m     21\u001b[0m     \u001b[0;31m# convert image to binary for ease of projections\u001b[0m\u001b[0;34m\u001b[0m\u001b[0;34m\u001b[0m\u001b[0;34m\u001b[0m\u001b[0m\n",
      "\u001b[0;31merror\u001b[0m: OpenCV(4.2.0) /Users/travis/build/skvark/opencv-python/opencv/modules/imgproc/src/color.cpp:182: error: (-215:Assertion failed) !_src.empty() in function 'cvtColor'\n"
     ]
    }
   ],
   "source": [
    "path = \"datasets-2\"\n",
    "dataFolder = \"CASIA Iris Image Database (version 1.0)\"\n",
    "eyeId = \"001\"\n",
    "imgPath = os.path.join(path, dataFolder, eyeId, \"1\") \n",
    "print(imgPath)\n",
    "imgFilename = eyeId + \"1\" + str(1) + \".bmp\"\n",
    "img_org = cv2.imread(imgPath+ '/' + imgFilename)\n",
    "print(img_org)\n",
    "img_irisLocation,radii,xy = IrisLocalization(imgPath, imgFilename)"
   ]
  },
  {
   "cell_type": "code",
   "execution_count": null,
   "id": "59bac3c3",
   "metadata": {},
   "outputs": [],
   "source": [
    "img_normalization = IrisNormalization(imgPath, imgFilename, xy, radii)"
   ]
  },
  {
   "cell_type": "code",
   "execution_count": 11,
   "id": "8aa23127",
   "metadata": {
    "scrolled": false
   },
   "outputs": [
    {
     "data": {
      "text/plain": [
       "'/Users/yojeremijenko-conel/Dropbox/My Mac (yos-MacBook-Pro.local)/Downloads/Iris Recognition-2'"
      ]
     },
     "execution_count": 11,
     "metadata": {},
     "output_type": "execute_result"
    }
   ],
   "source": []
  },
  {
   "cell_type": "code",
   "execution_count": 18,
   "id": "1abe5b1a",
   "metadata": {},
   "outputs": [
    {
     "ename": "NameError",
     "evalue": "name 'img_normalization' is not defined",
     "output_type": "error",
     "traceback": [
      "\u001b[0;31m---------------------------------------------------------------------------\u001b[0m",
      "\u001b[0;31mNameError\u001b[0m                                 Traceback (most recent call last)",
      "\u001b[0;32m<ipython-input-18-98cccef604d5>\u001b[0m in \u001b[0;36m<module>\u001b[0;34m\u001b[0m\n\u001b[0;32m----> 1\u001b[0;31m \u001b[0mplt\u001b[0m\u001b[0;34m.\u001b[0m\u001b[0mimshow\u001b[0m\u001b[0;34m(\u001b[0m\u001b[0mimg_normalization\u001b[0m \u001b[0;34m,\u001b[0m\u001b[0mcmap\u001b[0m \u001b[0;34m=\u001b[0m \u001b[0;34m'gray'\u001b[0m\u001b[0;34m)\u001b[0m\u001b[0;34m\u001b[0m\u001b[0;34m\u001b[0m\u001b[0m\n\u001b[0m",
      "\u001b[0;31mNameError\u001b[0m: name 'img_normalization' is not defined"
     ]
    }
   ],
   "source": [
    "plt.imshow(img_normalization ,cmap = 'gray')"
   ]
  },
  {
   "cell_type": "code",
   "execution_count": null,
   "id": "8db2c822",
   "metadata": {},
   "outputs": [],
   "source": []
  }
 ],
 "metadata": {
  "kernelspec": {
   "display_name": "Python 3",
   "language": "python",
   "name": "python3"
  },
  "language_info": {
   "codemirror_mode": {
    "name": "ipython",
    "version": 3
   },
   "file_extension": ".py",
   "mimetype": "text/x-python",
   "name": "python",
   "nbconvert_exporter": "python",
   "pygments_lexer": "ipython3",
   "version": "3.7.6"
  }
 },
 "nbformat": 4,
 "nbformat_minor": 5
}
